{
 "cells": [
  {
   "cell_type": "code",
   "execution_count": 1,
   "metadata": {},
   "outputs": [],
   "source": [
    "import pandas as  pd\n",
    "import os\n",
    "import shutil\n",
    "import numpy as np"
   ]
  },
  {
   "cell_type": "code",
   "execution_count": 2,
   "metadata": {},
   "outputs": [],
   "source": [
    "segment=os.listdir('../UBC-Ocean-Data/Segmentation')\n",
    "segment=[s.split('.')[0] for s in segment]\n",
    "df=pd.read_csv('train.csv')\n",
    "tma=df.loc[df['is_tma'],'image_id'].astype(str).values\n",
    "for i in range(11):\n",
    "    current_dir=f'../UBC-Ocean-Data/archive/{i}/'\n",
    "    folders=os.listdir(current_dir)\n",
    "    for f in folders:\n",
    "        if (f in segment) or (f in tma):\n",
    "            shutil.rmtree(current_dir+f)\n"
   ]
  },
  {
   "cell_type": "code",
   "execution_count": 21,
   "metadata": {},
   "outputs": [],
   "source": [
    "rng = np.random.default_rng()\n",
    "images=[]\n",
    "for i in range(11):\n",
    "    current_dir=f'../UBC-Ocean-Data/archive/{i}/'\n",
    "    images+=os.listdir(current_dir)\n",
    "sel=df['image_id'].astype(str).isin(images)\n",
    "df_new=df[sel]\n",
    "classification_images=[]\n",
    "autoencoder_images=[]\n",
    "for label in df_new['label'].unique():\n",
    "    current_images=df_new.loc[df_new['label']==label,'image_id'].astype(str)\n",
    "    current_images=rng.permutation(current_images)\n",
    "    n=len(current_images)//2\n",
    "    autoencoder_images+=list(current_images[:n])\n",
    "    classification_images+=list(current_images[n:])"
   ]
  },
  {
   "cell_type": "code",
   "execution_count": 23,
   "metadata": {},
   "outputs": [],
   "source": [
    "for i in range(11):\n",
    "    current_dir=f'../UBC-Ocean-Data/archive/{i}/'\n",
    "    dirs=os.listdir(current_dir)\n",
    "    for dir in dirs:\n",
    "        if dir in autoencoder_images:\n",
    "            shutil.move(current_dir+dir,'../UBC-Ocean-Data/Autoencoder')\n",
    "        elif dir in classification_images:\n",
    "            shutil.move(current_dir+dir,'../UBC-Ocean-Data/Classification')\n",
    "        else:\n",
    "            print(dir)\n",
    "            print(current_dir)"
   ]
  }
 ],
 "metadata": {
  "kernelspec": {
   "display_name": "venv",
   "language": "python",
   "name": "python3"
  },
  "language_info": {
   "codemirror_mode": {
    "name": "ipython",
    "version": 3
   },
   "file_extension": ".py",
   "mimetype": "text/x-python",
   "name": "python",
   "nbconvert_exporter": "python",
   "pygments_lexer": "ipython3",
   "version": "3.8.10"
  }
 },
 "nbformat": 4,
 "nbformat_minor": 2
}
