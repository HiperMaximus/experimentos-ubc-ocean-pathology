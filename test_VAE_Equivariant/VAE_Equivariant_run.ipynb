{
 "cells": [
  {
   "cell_type": "code",
   "execution_count": 1,
   "metadata": {},
   "outputs": [
    {
     "name": "stdout",
     "output_type": "stream",
     "text": [
      "cuda\n"
     ]
    }
   ],
   "source": [
    "import os\n",
    "os.environ['PYTORCH_CUDA_ALLOC_CONF'] = 'expandable_segments:True'\n",
    "#os.environ['TORCH_LOGS'] = \"+dynamo\"\n",
    "#os.environ['TORCHDYNAMO_VERBOSE'] = \"1\"\n",
    "import warnings\n",
    "# Suppress the symbolic shapes warning\n",
    "# warnings.filterwarnings(\"ignore\", message=\"xindex is not in var_ranges\")\n",
    "\n",
    "import torch\n",
    "import torch.nn as nn\n",
    "import torch.optim as optim\n",
    "from torchvision import datasets, transforms\n",
    "from torch.utils.data import DataLoader, Dataset\n",
    "import torch.nn.functional as F\n",
    "from torchvision.datasets import ImageFolder\n",
    "from torchvision.io import read_image\n",
    "from torch.utils.data import SubsetRandomSampler\n",
    "from torch.utils.tensorboard import SummaryWriter\n",
    "from torchvision.utils import save_image\n",
    "from vae_equivariant_architecture import D4_Equivariant_VAE\n",
    "from PIL import Image\n",
    "\n",
    "import numpy as np\n",
    "from sklearn.model_selection import train_test_split\n",
    "import matplotlib.pyplot as plt\n",
    "from tqdm.notebook import tqdm\n",
    "import copy\n",
    "import gc\n",
    "\n",
    "torch.cuda.empty_cache()\n",
    "gc.collect()\n",
    "\n",
    "device = torch.device('cuda' if torch.cuda.is_available() else 'cpu')\n",
    "print(device)\n"
   ]
  },
  {
   "cell_type": "code",
   "execution_count": 2,
   "metadata": {},
   "outputs": [],
   "source": [
    "# Image transformations\n",
    "transform = transforms.Compose([\n",
    "    transforms.ToTensor(),\n",
    "    transforms.Normalize([0.5, 0.5, 0.5], [0.5, 0.5, 0.5])  # Normalize to [-1, 1]\n",
    "])"
   ]
  },
  {
   "cell_type": "code",
   "execution_count": 3,
   "metadata": {},
   "outputs": [],
   "source": [
    "class TiledImageDataset(Dataset):\n",
    "    def __init__(self, data_dir, image_ids, transform=None):\n",
    "        self.data_dir = data_dir\n",
    "        self.image_ids = image_ids\n",
    "        self.transform = transform\n",
    "        self.image_paths = []\n",
    "        \n",
    "        # Collect all image paths for the given image IDs\n",
    "        for image_id in image_ids:\n",
    "            image_folder = os.path.join(data_dir, image_id)\n",
    "            for img_name in os.listdir(image_folder):\n",
    "                self.image_paths.append(os.path.join(image_folder, img_name))\n",
    "\n",
    "    def __len__(self):\n",
    "        return len(self.image_paths)\n",
    "\n",
    "    def __getitem__(self, idx):\n",
    "        img_path = self.image_paths[idx]\n",
    "        img = Image.open(img_path).convert('RGB')\n",
    "        \n",
    "        if self.transform:\n",
    "            img = self.transform(img)\n",
    "        \n",
    "        return img\n"
   ]
  },
  {
   "cell_type": "code",
   "execution_count": 4,
   "metadata": {},
   "outputs": [],
   "source": [
    "# Assuming `image_ids` is a list of all folder names (IDs of the original images)\n",
    "data_dir = '../UBC-Ocean-Data/Autoencoder'\n",
    "image_ids = os.listdir(data_dir)  # List of all original image IDs\n",
    "\n",
    "# Split image IDs\n",
    "train_ids, temp_ids = train_test_split(image_ids, test_size=0.3, random_state=42)\n",
    "val_ids, test_ids = train_test_split(temp_ids, test_size=2/3, random_state=42)  # 10% validation, 20% test\n",
    "\n",
    "# Create datasets\n",
    "train_dataset = TiledImageDataset(data_dir, train_ids, transform=transform)\n",
    "val_dataset = TiledImageDataset(data_dir, val_ids, transform=transform)\n",
    "test_dataset = TiledImageDataset(data_dir, test_ids, transform=transform)\n",
    "\n",
    "batch_size=2**6"
   ]
  },
  {
   "cell_type": "code",
   "execution_count": null,
   "metadata": {},
   "outputs": [],
   "source": [
    "# Get 10% of training data for each epoch\n",
    "def get_subset_sampler(dataset, seed, percentage=0.1):\n",
    "    dataset_size = len(dataset)\n",
    "    indices = list(range(dataset_size))\n",
    "\n",
    "    np.random.seed(seed + 42)\n",
    "    np.random.shuffle(indices)\n",
    "    \n",
    "    split = int(np.ceil(percentage * dataset_size))\n",
    "    train_indices = indices[:split]\n",
    "    \n",
    "    return SubsetRandomSampler(train_indices)"
   ]
  },
  {
   "cell_type": "code",
   "execution_count": 6,
   "metadata": {},
   "outputs": [
    {
     "data": {
      "application/vnd.jupyter.widget-view+json": {
       "model_id": "81cde944fd6642f7a8c320509e14cccd",
       "version_major": 2,
       "version_minor": 0
      },
      "text/plain": [
       "Training Epoch 1/20:   0%|          | 0/2162 [00:00<?, ?batch/s]"
      ]
     },
     "metadata": {},
     "output_type": "display_data"
    },
    {
     "name": "stderr",
     "output_type": "stream",
     "text": [
      "/media/max/f7de66f7-119c-4593-a8ab-02f75c636771/Max/experimentos-ubc-ocean-pathology/test_VAE_Equivariant/d4_equivariant.py:94: UserWarning: Using padding='same' with even kernel lengths and odd dilation may require a zero-padded copy of the input be created (Triggered internally at ../aten/src/ATen/native/Convolution.cpp:1031.)\n",
      "  out = F.conv2d(x, transformed_filters, padding=self.padding, bias=expanded_bias, stride=self.stride)\n"
     ]
    },
    {
     "data": {
      "application/vnd.jupyter.widget-view+json": {
       "model_id": "e17d67eb10064a5abfc8131269bd7f51",
       "version_major": 2,
       "version_minor": 0
      },
      "text/plain": [
       "Validation Epoch 1/20:   0%|          | 0/1320 [00:00<?, ?batch/s]"
      ]
     },
     "metadata": {},
     "output_type": "display_data"
    },
    {
     "name": "stdout",
     "output_type": "stream",
     "text": [
      "Epoch 1, Training Loss: 0.0154, Validation Loss: 0.0182, Learning Rate: 0.001\n"
     ]
    },
    {
     "data": {
      "application/vnd.jupyter.widget-view+json": {
       "model_id": "a911e642c2fc4ce387fbf2f47c7855d9",
       "version_major": 2,
       "version_minor": 0
      },
      "text/plain": [
       "Training Epoch 2/20:   0%|          | 0/2162 [00:00<?, ?batch/s]"
      ]
     },
     "metadata": {},
     "output_type": "display_data"
    },
    {
     "data": {
      "application/vnd.jupyter.widget-view+json": {
       "model_id": "db1b0267496143ab81a86d21d7864cc2",
       "version_major": 2,
       "version_minor": 0
      },
      "text/plain": [
       "Validation Epoch 2/20:   0%|          | 0/1320 [00:00<?, ?batch/s]"
      ]
     },
     "metadata": {},
     "output_type": "display_data"
    },
    {
     "name": "stdout",
     "output_type": "stream",
     "text": [
      "Epoch 2, Training Loss: 0.0146, Validation Loss: 0.0129, Learning Rate: 0.001\n"
     ]
    },
    {
     "data": {
      "application/vnd.jupyter.widget-view+json": {
       "model_id": "e5b8744260d2473c921314c053508cd6",
       "version_major": 2,
       "version_minor": 0
      },
      "text/plain": [
       "Training Epoch 3/20:   0%|          | 0/2162 [00:00<?, ?batch/s]"
      ]
     },
     "metadata": {},
     "output_type": "display_data"
    },
    {
     "data": {
      "application/vnd.jupyter.widget-view+json": {
       "model_id": "fc92dcdcb4a64124b3a9eeba412d0b1a",
       "version_major": 2,
       "version_minor": 0
      },
      "text/plain": [
       "Validation Epoch 3/20:   0%|          | 0/1320 [00:00<?, ?batch/s]"
      ]
     },
     "metadata": {},
     "output_type": "display_data"
    },
    {
     "name": "stdout",
     "output_type": "stream",
     "text": [
      "Epoch 3, Training Loss: 0.0127, Validation Loss: 0.0119, Learning Rate: 0.001\n"
     ]
    },
    {
     "data": {
      "application/vnd.jupyter.widget-view+json": {
       "model_id": "1085f32d300d42d5ad85bdafc3b1753b",
       "version_major": 2,
       "version_minor": 0
      },
      "text/plain": [
       "Training Epoch 4/20:   0%|          | 0/2162 [00:00<?, ?batch/s]"
      ]
     },
     "metadata": {},
     "output_type": "display_data"
    },
    {
     "data": {
      "application/vnd.jupyter.widget-view+json": {
       "model_id": "9aff400339c7463783e1ea55380f77fb",
       "version_major": 2,
       "version_minor": 0
      },
      "text/plain": [
       "Validation Epoch 4/20:   0%|          | 0/1320 [00:00<?, ?batch/s]"
      ]
     },
     "metadata": {},
     "output_type": "display_data"
    },
    {
     "name": "stdout",
     "output_type": "stream",
     "text": [
      "Epoch 4, Training Loss: 0.0113, Validation Loss: 0.0117, Learning Rate: 0.001\n"
     ]
    },
    {
     "data": {
      "application/vnd.jupyter.widget-view+json": {
       "model_id": "567b7c1b71ee4108b491c78f86a15dbc",
       "version_major": 2,
       "version_minor": 0
      },
      "text/plain": [
       "Training Epoch 5/20:   0%|          | 0/2162 [00:00<?, ?batch/s]"
      ]
     },
     "metadata": {},
     "output_type": "display_data"
    },
    {
     "data": {
      "application/vnd.jupyter.widget-view+json": {
       "model_id": "043bea42f87c4e4299739df6f2f95b7a",
       "version_major": 2,
       "version_minor": 0
      },
      "text/plain": [
       "Validation Epoch 5/20:   0%|          | 0/1320 [00:00<?, ?batch/s]"
      ]
     },
     "metadata": {},
     "output_type": "display_data"
    },
    {
     "name": "stdout",
     "output_type": "stream",
     "text": [
      "Epoch 5, Training Loss: 0.0112, Validation Loss: 0.0116, Learning Rate: 0.001\n"
     ]
    },
    {
     "data": {
      "application/vnd.jupyter.widget-view+json": {
       "model_id": "5bba4702b43c49c8b47bf1e27c141c2a",
       "version_major": 2,
       "version_minor": 0
      },
      "text/plain": [
       "Training Epoch 6/20:   0%|          | 0/2162 [00:00<?, ?batch/s]"
      ]
     },
     "metadata": {},
     "output_type": "display_data"
    },
    {
     "data": {
      "application/vnd.jupyter.widget-view+json": {
       "model_id": "b150159d71d444e093af445e8b5649be",
       "version_major": 2,
       "version_minor": 0
      },
      "text/plain": [
       "Validation Epoch 6/20:   0%|          | 0/1320 [00:00<?, ?batch/s]"
      ]
     },
     "metadata": {},
     "output_type": "display_data"
    },
    {
     "name": "stdout",
     "output_type": "stream",
     "text": [
      "Epoch 6, Training Loss: 0.0111, Validation Loss: 0.0115, Learning Rate: 0.001\n"
     ]
    },
    {
     "data": {
      "application/vnd.jupyter.widget-view+json": {
       "model_id": "2d284b62776c42e49edf4e612cfbc0dc",
       "version_major": 2,
       "version_minor": 0
      },
      "text/plain": [
       "Training Epoch 7/20:   0%|          | 0/2162 [00:00<?, ?batch/s]"
      ]
     },
     "metadata": {},
     "output_type": "display_data"
    },
    {
     "data": {
      "application/vnd.jupyter.widget-view+json": {
       "model_id": "cc0c66e489534c928287f0c802ff0cf4",
       "version_major": 2,
       "version_minor": 0
      },
      "text/plain": [
       "Validation Epoch 7/20:   0%|          | 0/1320 [00:00<?, ?batch/s]"
      ]
     },
     "metadata": {},
     "output_type": "display_data"
    },
    {
     "name": "stdout",
     "output_type": "stream",
     "text": [
      "Epoch 7, Training Loss: 0.0111, Validation Loss: 0.0115, Learning Rate: 0.001\n"
     ]
    },
    {
     "data": {
      "application/vnd.jupyter.widget-view+json": {
       "model_id": "bb2a4bf167314f8188df400a390e97cc",
       "version_major": 2,
       "version_minor": 0
      },
      "text/plain": [
       "Training Epoch 8/20:   0%|          | 0/2162 [00:00<?, ?batch/s]"
      ]
     },
     "metadata": {},
     "output_type": "display_data"
    },
    {
     "data": {
      "application/vnd.jupyter.widget-view+json": {
       "model_id": "8e77707e0b2f409fa7c4014fc6d89d1a",
       "version_major": 2,
       "version_minor": 0
      },
      "text/plain": [
       "Validation Epoch 8/20:   0%|          | 0/1320 [00:00<?, ?batch/s]"
      ]
     },
     "metadata": {},
     "output_type": "display_data"
    },
    {
     "name": "stdout",
     "output_type": "stream",
     "text": [
      "Epoch 8, Training Loss: 0.0111, Validation Loss: 0.0115, Learning Rate: 0.001\n"
     ]
    },
    {
     "data": {
      "application/vnd.jupyter.widget-view+json": {
       "model_id": "ea64fe4daf1540aca27227fdb7e62296",
       "version_major": 2,
       "version_minor": 0
      },
      "text/plain": [
       "Training Epoch 9/20:   0%|          | 0/2162 [00:00<?, ?batch/s]"
      ]
     },
     "metadata": {},
     "output_type": "display_data"
    },
    {
     "data": {
      "application/vnd.jupyter.widget-view+json": {
       "model_id": "73c0934768124298b2c1625e5ede7f47",
       "version_major": 2,
       "version_minor": 0
      },
      "text/plain": [
       "Validation Epoch 9/20:   0%|          | 0/1320 [00:00<?, ?batch/s]"
      ]
     },
     "metadata": {},
     "output_type": "display_data"
    },
    {
     "name": "stdout",
     "output_type": "stream",
     "text": [
      "Epoch 9, Training Loss: 0.0111, Validation Loss: 0.0114, Learning Rate: 0.001\n"
     ]
    },
    {
     "data": {
      "application/vnd.jupyter.widget-view+json": {
       "model_id": "04d766e53fd44592b4583d484aeb8367",
       "version_major": 2,
       "version_minor": 0
      },
      "text/plain": [
       "Training Epoch 10/20:   0%|          | 0/2162 [00:00<?, ?batch/s]"
      ]
     },
     "metadata": {},
     "output_type": "display_data"
    },
    {
     "data": {
      "application/vnd.jupyter.widget-view+json": {
       "model_id": "2bb1cb16b04148528f90605e7efa0299",
       "version_major": 2,
       "version_minor": 0
      },
      "text/plain": [
       "Validation Epoch 10/20:   0%|          | 0/1320 [00:00<?, ?batch/s]"
      ]
     },
     "metadata": {},
     "output_type": "display_data"
    },
    {
     "name": "stdout",
     "output_type": "stream",
     "text": [
      "Epoch 10, Training Loss: 0.0111, Validation Loss: 0.0114, Learning Rate: 0.001\n"
     ]
    },
    {
     "data": {
      "application/vnd.jupyter.widget-view+json": {
       "model_id": "0b197836c6454b02b09ca42ed135a5fd",
       "version_major": 2,
       "version_minor": 0
      },
      "text/plain": [
       "Training Epoch 11/20:   0%|          | 0/2162 [00:00<?, ?batch/s]"
      ]
     },
     "metadata": {},
     "output_type": "display_data"
    },
    {
     "data": {
      "application/vnd.jupyter.widget-view+json": {
       "model_id": "15cd317ec4214cebbda6bf3b0b6cfd0c",
       "version_major": 2,
       "version_minor": 0
      },
      "text/plain": [
       "Validation Epoch 11/20:   0%|          | 0/1320 [00:00<?, ?batch/s]"
      ]
     },
     "metadata": {},
     "output_type": "display_data"
    },
    {
     "name": "stdout",
     "output_type": "stream",
     "text": [
      "Epoch 11, Training Loss: 0.0111, Validation Loss: 0.0114, Learning Rate: 0.001\n"
     ]
    },
    {
     "data": {
      "application/vnd.jupyter.widget-view+json": {
       "model_id": "a3bfb55de41742b199b7dc1eae25e2ca",
       "version_major": 2,
       "version_minor": 0
      },
      "text/plain": [
       "Training Epoch 12/20:   0%|          | 0/2162 [00:00<?, ?batch/s]"
      ]
     },
     "metadata": {},
     "output_type": "display_data"
    },
    {
     "data": {
      "application/vnd.jupyter.widget-view+json": {
       "model_id": "1c061ff67bf74072a27a03234a00e623",
       "version_major": 2,
       "version_minor": 0
      },
      "text/plain": [
       "Validation Epoch 12/20:   0%|          | 0/1320 [00:00<?, ?batch/s]"
      ]
     },
     "metadata": {},
     "output_type": "display_data"
    },
    {
     "name": "stdout",
     "output_type": "stream",
     "text": [
      "Epoch 12, Training Loss: 0.0110, Validation Loss: 0.0113, Learning Rate: 0.001\n"
     ]
    },
    {
     "data": {
      "application/vnd.jupyter.widget-view+json": {
       "model_id": "494517a803f849328e2810c4c5fc1e21",
       "version_major": 2,
       "version_minor": 0
      },
      "text/plain": [
       "Training Epoch 13/20:   0%|          | 0/2162 [00:00<?, ?batch/s]"
      ]
     },
     "metadata": {},
     "output_type": "display_data"
    },
    {
     "data": {
      "application/vnd.jupyter.widget-view+json": {
       "model_id": "8bd7546b10324cbe9973cf094cdfba96",
       "version_major": 2,
       "version_minor": 0
      },
      "text/plain": [
       "Validation Epoch 13/20:   0%|          | 0/1320 [00:00<?, ?batch/s]"
      ]
     },
     "metadata": {},
     "output_type": "display_data"
    },
    {
     "name": "stdout",
     "output_type": "stream",
     "text": [
      "Epoch 13, Training Loss: 0.0110, Validation Loss: 0.0113, Learning Rate: 0.001\n"
     ]
    },
    {
     "data": {
      "application/vnd.jupyter.widget-view+json": {
       "model_id": "082e8968f25143d8a81bde464887979d",
       "version_major": 2,
       "version_minor": 0
      },
      "text/plain": [
       "Training Epoch 14/20:   0%|          | 0/2162 [00:00<?, ?batch/s]"
      ]
     },
     "metadata": {},
     "output_type": "display_data"
    },
    {
     "data": {
      "application/vnd.jupyter.widget-view+json": {
       "model_id": "275b2b19ecc54fc192d514bf8a8e829b",
       "version_major": 2,
       "version_minor": 0
      },
      "text/plain": [
       "Validation Epoch 14/20:   0%|          | 0/1320 [00:00<?, ?batch/s]"
      ]
     },
     "metadata": {},
     "output_type": "display_data"
    },
    {
     "name": "stdout",
     "output_type": "stream",
     "text": [
      "Epoch 14, Training Loss: 0.0110, Validation Loss: 0.0113, Learning Rate: 0.001\n"
     ]
    },
    {
     "data": {
      "application/vnd.jupyter.widget-view+json": {
       "model_id": "e445cc71e4644613b24903f01325f239",
       "version_major": 2,
       "version_minor": 0
      },
      "text/plain": [
       "Training Epoch 15/20:   0%|          | 0/2162 [00:00<?, ?batch/s]"
      ]
     },
     "metadata": {},
     "output_type": "display_data"
    },
    {
     "data": {
      "application/vnd.jupyter.widget-view+json": {
       "model_id": "6c7275d4084a4341b252cccc9c73d8da",
       "version_major": 2,
       "version_minor": 0
      },
      "text/plain": [
       "Validation Epoch 15/20:   0%|          | 0/1320 [00:00<?, ?batch/s]"
      ]
     },
     "metadata": {},
     "output_type": "display_data"
    },
    {
     "name": "stdout",
     "output_type": "stream",
     "text": [
      "Epoch 15, Training Loss: 0.0110, Validation Loss: 0.0113, Learning Rate: 0.001\n"
     ]
    },
    {
     "data": {
      "application/vnd.jupyter.widget-view+json": {
       "model_id": "df233243fff84e4f8f129852930a7f59",
       "version_major": 2,
       "version_minor": 0
      },
      "text/plain": [
       "Training Epoch 16/20:   0%|          | 0/2162 [00:00<?, ?batch/s]"
      ]
     },
     "metadata": {},
     "output_type": "display_data"
    },
    {
     "data": {
      "application/vnd.jupyter.widget-view+json": {
       "model_id": "9d1c45949148453ba3cb8716df1bdaa9",
       "version_major": 2,
       "version_minor": 0
      },
      "text/plain": [
       "Validation Epoch 16/20:   0%|          | 0/1320 [00:00<?, ?batch/s]"
      ]
     },
     "metadata": {},
     "output_type": "display_data"
    },
    {
     "name": "stdout",
     "output_type": "stream",
     "text": [
      "Epoch 16, Training Loss: 0.0110, Validation Loss: 0.0113, Learning Rate: 0.001\n"
     ]
    },
    {
     "data": {
      "application/vnd.jupyter.widget-view+json": {
       "model_id": "11fee8e7ff2a4451a76af095ef299f0a",
       "version_major": 2,
       "version_minor": 0
      },
      "text/plain": [
       "Training Epoch 17/20:   0%|          | 0/2162 [00:00<?, ?batch/s]"
      ]
     },
     "metadata": {},
     "output_type": "display_data"
    },
    {
     "data": {
      "application/vnd.jupyter.widget-view+json": {
       "model_id": "0eb0390c3831438aa27e3b1a7c63e870",
       "version_major": 2,
       "version_minor": 0
      },
      "text/plain": [
       "Validation Epoch 17/20:   0%|          | 0/1320 [00:00<?, ?batch/s]"
      ]
     },
     "metadata": {},
     "output_type": "display_data"
    },
    {
     "name": "stdout",
     "output_type": "stream",
     "text": [
      "Epoch 17, Training Loss: 0.0110, Validation Loss: 0.0113, Learning Rate: 0.001\n"
     ]
    },
    {
     "data": {
      "application/vnd.jupyter.widget-view+json": {
       "model_id": "b8d3b045e46a47ff9445027f4a416556",
       "version_major": 2,
       "version_minor": 0
      },
      "text/plain": [
       "Training Epoch 18/20:   0%|          | 0/2162 [00:00<?, ?batch/s]"
      ]
     },
     "metadata": {},
     "output_type": "display_data"
    },
    {
     "data": {
      "application/vnd.jupyter.widget-view+json": {
       "model_id": "db7b435df1ce479f9551b88db5baea9b",
       "version_major": 2,
       "version_minor": 0
      },
      "text/plain": [
       "Validation Epoch 18/20:   0%|          | 0/1320 [00:00<?, ?batch/s]"
      ]
     },
     "metadata": {},
     "output_type": "display_data"
    },
    {
     "name": "stdout",
     "output_type": "stream",
     "text": [
      "Epoch 18, Training Loss: 0.0109, Validation Loss: 0.0113, Learning Rate: 0.001\n"
     ]
    },
    {
     "data": {
      "application/vnd.jupyter.widget-view+json": {
       "model_id": "c17229c0ddf74c9e9ae9b9c585b350dc",
       "version_major": 2,
       "version_minor": 0
      },
      "text/plain": [
       "Training Epoch 19/20:   0%|          | 0/2162 [00:00<?, ?batch/s]"
      ]
     },
     "metadata": {},
     "output_type": "display_data"
    },
    {
     "data": {
      "application/vnd.jupyter.widget-view+json": {
       "model_id": "d304bb6c8853473e90289c1a9ac60221",
       "version_major": 2,
       "version_minor": 0
      },
      "text/plain": [
       "Validation Epoch 19/20:   0%|          | 0/1320 [00:00<?, ?batch/s]"
      ]
     },
     "metadata": {},
     "output_type": "display_data"
    },
    {
     "name": "stdout",
     "output_type": "stream",
     "text": [
      "Epoch 19, Training Loss: 0.0109, Validation Loss: 0.0112, Learning Rate: 0.001\n"
     ]
    },
    {
     "data": {
      "application/vnd.jupyter.widget-view+json": {
       "model_id": "2b87c2e41ef44cc0835a7946f9c57bb0",
       "version_major": 2,
       "version_minor": 0
      },
      "text/plain": [
       "Training Epoch 20/20:   0%|          | 0/2162 [00:00<?, ?batch/s]"
      ]
     },
     "metadata": {},
     "output_type": "display_data"
    },
    {
     "data": {
      "application/vnd.jupyter.widget-view+json": {
       "model_id": "9cff83157ba04718ac9953cfd831cba0",
       "version_major": 2,
       "version_minor": 0
      },
      "text/plain": [
       "Validation Epoch 20/20:   0%|          | 0/1320 [00:00<?, ?batch/s]"
      ]
     },
     "metadata": {},
     "output_type": "display_data"
    },
    {
     "name": "stdout",
     "output_type": "stream",
     "text": [
      "Epoch 20, Training Loss: 0.0109, Validation Loss: 0.0112, Learning Rate: 0.001\n"
     ]
    },
    {
     "data": {
      "application/vnd.jupyter.widget-view+json": {
       "model_id": "96c2811c703c45b2b2f365e07f3601ab",
       "version_major": 2,
       "version_minor": 0
      },
      "text/plain": [
       "Validation:   0%|          | 0/3081 [00:00<?, ?batch/s]"
      ]
     },
     "metadata": {},
     "output_type": "display_data"
    },
    {
     "name": "stdout",
     "output_type": "stream",
     "text": [
      "Test Loss: 0.0106\n"
     ]
    },
    {
     "data": {
      "image/png": "[encoded data removed]",
      "text/plain": [
       "<Figure size 1000x500 with 1 Axes>"
      ]
     },
     "metadata": {},
     "output_type": "display_data"
    },
    {
     "data": {
      "text/plain": [
       "4275"
      ]
     },
     "execution_count": 6,
     "metadata": {},
     "output_type": "execute_result"
    }
   ],
   "source": [
    "# Model, optimizer, and compilation\n",
    "latent_dim = 256\n",
    "device = torch.device(\"cuda\" if torch.cuda.is_available() else \"cpu\")\n",
    "vae = D4_Equivariant_VAE(latent_dim)\n",
    "compiled_vae = vae.to(device)\n",
    "#compiled_vae = torch.compile(vae,fullgraph=True,dynamic=False).to(device)\n",
    "#compiled_vae.load_state_dict(torch.load('epochs/epoch_10/vae_weights_epoch_10.pth',weights_only=True))\n",
    "\n",
    "optimizer = optim.AdamW(compiled_vae.parameters(), lr=0.001, weight_decay=1e-5)\n",
    "\n",
    "# Create the learning rate scheduler\n",
    "scheduler = torch.optim.lr_scheduler.ReduceLROnPlateau(\n",
    "    optimizer,\n",
    "    mode='min', \n",
    "    factor=0.9, \n",
    "    patience=1,\n",
    "    cooldown=1,)\n",
    "\n",
    "num_epochs = 20\n",
    "train_losses = []\n",
    "val_losses = []\n",
    "\n",
    "# Select and save 24 images from the test set (ensure to keep this consistent across epochs)\n",
    "n=24\n",
    "fixed_batch = next(iter(DataLoader(test_dataset, batch_size=n, shuffle=True)))\n",
    "for i in range(n):\n",
    "    save_image(fixed_batch[i],fp=f'epochs/example_imgs/img_{i}.png')\n",
    "\n",
    "# Initialize TensorBoard writer\n",
    "writer = SummaryWriter(log_dir='runs/vae_experiment')\n",
    "# Log original images to TensorBoard\n",
    "writer.add_images('Original Images', fixed_batch, 0)\n",
    "\n",
    "\n",
    "# sample 10% of data per epoch and log everything\n",
    "best_val_loss = float('inf')\n",
    "for epoch in range(num_epochs):\n",
    "    sampler = get_subset_sampler(train_dataset, seed=epoch, percentage=0.2)\n",
    "    train_loader = DataLoader(train_dataset, batch_size=batch_size, sampler=sampler, pin_memory=True)\n",
    "    #accumulated_gradients = {name: torch.zeros_like(param) for name, param in compiled_vae.named_parameters()}\n",
    "    compiled_vae.train()\n",
    "    train_loss = 0\n",
    "    num_samples=0\n",
    "    # Use tqdm to create a progress bar for the training loop\n",
    "    with tqdm(total=len(train_loader), desc=f'Training Epoch {epoch + 1}/{num_epochs}', unit='batch', position=0, leave=False) as pbar:\n",
    "        for batch in train_loader:\n",
    "            batch = batch.to(device,non_blocking=True)\n",
    "            assert not torch.isnan(batch).any(), f\"Input contains NaN at epoch {epoch}\"\n",
    "\n",
    "            optimizer.zero_grad()\n",
    "\n",
    "            recon_batch, mu, logvar = compiled_vae(batch)\n",
    "            loss = compiled_vae.vae_loss(recon_batch, batch, mu, logvar)\n",
    "            loss.backward()\n",
    "            train_loss += loss.item()\n",
    "            #if train_loss>len(train_loader):\n",
    "            #    print(f\"Error in loss. Train loss: {train_loss}, loss: {loss.item()}\")\n",
    "            \n",
    "            # Gradient clipping\n",
    "            torch.nn.utils.clip_grad_norm_(compiled_vae.parameters(), max_norm=1.0)\n",
    "            optimizer.step()\n",
    "\n",
    "            # for name, param in compiled_vae.named_parameters():\n",
    "            #     if (param.grad is not None) and (param.grad.numel() > 0):\n",
    "            #         accumulated_gradients[name] += param.grad.detach().clone()\n",
    "\n",
    "            num_samples+=batch.size()[0]\n",
    "\n",
    "            # Update the progress bar\n",
    "            pbar.update(1)  # Increment the progress bar by 1\n",
    "            pbar.set_postfix({'train_loss': loss.item()})  # Display current loss\n",
    "\n",
    "\n",
    "    train_loss /= num_samples\n",
    "    train_losses.append(train_loss)\n",
    "\n",
    "\n",
    "    # Create current directory if doesn't exists\n",
    "    current_dir=f'epochs/epoch_{epoch +1}/'\n",
    "    os.makedirs(current_dir, exist_ok=True)\n",
    "\n",
    "\n",
    "    # Validation loop\n",
    "    compiled_vae.eval()\n",
    "    val_loss = 0\n",
    "    num_samples_val=0\n",
    "    sampler = get_subset_sampler(val_dataset, epoch,percentage=1)\n",
    "    val_loader = DataLoader(val_dataset, batch_size=batch_size, sampler=sampler, pin_memory=True)\n",
    "    with torch.no_grad():\n",
    "        with tqdm(total=len(val_loader), desc=f'Validation Epoch {epoch + 1}/{num_epochs}', unit='batch',position=1, leave=False) as pbar:\n",
    "            for batch in val_loader:\n",
    "                batch = batch.to(device, non_blocking=True)\n",
    "                recon_batch, mu, logvar = compiled_vae(batch)\n",
    "                loss = compiled_vae.vae_loss(recon_batch, batch, mu, logvar)\n",
    "                val_loss += loss.item()\n",
    "                num_samples_val+=batch.size()[0]\n",
    "\n",
    "                # Update the progress bar\n",
    "                pbar.update(1)  # Increment the progress bar by 1\n",
    "                pbar.set_postfix({'val_loss': loss.item()})  # Display current loss\n",
    "\n",
    "    val_loss /= num_samples_val\n",
    "    val_losses.append(val_loss)\n",
    "\n",
    "\n",
    "    # Update the learning rate scheduler based on validation loss\n",
    "    scheduler.step(val_loss)\n",
    "    # The learning rate in optimizer will be updated automatically if needed\n",
    "    current_lr = scheduler.get_last_lr()[0]  # To check the current learning rate\n",
    "\n",
    "    # At the end of each epoch, save the reconstructions\n",
    "    compiled_vae.eval()\n",
    "    with torch.no_grad():\n",
    "        fixed_batch_epoch = fixed_batch.to(device)\n",
    "        mu, _ = compiled_vae.encode(fixed_batch_epoch)\n",
    "        recon_batch = compiled_vae.decode(mu)\n",
    "        recon_batch=recon_batch.cpu()\n",
    "\n",
    "        # Reverse normalization\n",
    "        recon_batch = (recon_batch*0.5)+0.5 \n",
    "        # Clamp the values to be in the range [0, 1]\n",
    "        recon_batch = torch.clamp(recon_batch, 0, 1)\n",
    "        for i in range(n):\n",
    "            save_image(recon_batch[i],fp=os.path.join(current_dir,f'img_recon_{i}.png'))\n",
    "    \n",
    "    # Log reconstructed images to TensorBoard\n",
    "    writer.add_images('Reconstructed Images', recon_batch, epoch)\n",
    "\n",
    "    # Log the model parameters and accumulated gradients to TensorBoard after the epoch\n",
    "    # avg_gradients=copy.deepcopy(accumulated_gradients)\n",
    "    # for name, param in compiled_vae.named_parameters():\n",
    "    #     # Log weights as histogram\n",
    "    #     if param.data.numel() > 0:\n",
    "    #         writer.add_histogram(f'Weights/{name}', param, global_step=epoch)\n",
    "\n",
    "    #     if (param.grad is not None) and (param.grad.numel() > 0):\n",
    "    #         # Log averaged gradients\n",
    "    #         avg_gradient = accumulated_gradients[name] / num_samples\n",
    "    #         if avg_gradient.numel() > 0:  # Check if the averaged gradient is non-empty\n",
    "    #             avg_gradients[name] = avg_gradient\n",
    "    #             writer.add_histogram(f'Gradients/{name}', avg_gradient, global_step=epoch)\n",
    "    #         else:\n",
    "    #             print(f\"Warning: Averaged gradient for {name} is empty.\")\n",
    "\n",
    "    # Save both model and optimizer states\n",
    "    torch.save({\n",
    "        'epoch': epoch+1,\n",
    "        #'model_state_dict': compiled_vae.state_dict(),\n",
    "        #'optimizer_state_dict': optimizer.state_dict(),\n",
    "        #'scheduler_state_dict': scheduler.state_dict(),\n",
    "        'train_loss': train_loss,\n",
    "        'val_loss':val_loss,\n",
    "        'num_samples': num_samples,\n",
    "        #'avg_gradients':avg_gradients\n",
    "        'learning_rate':current_lr\n",
    "    }, os.path.join(current_dir, f'checkpoint_epoch_{epoch+1}.pth'))\n",
    "\n",
    "    # Save best model when validation loss improves\n",
    "    if val_loss < best_val_loss:\n",
    "        best_val_loss = val_loss\n",
    "        # torch.save({\n",
    "        # 'epoch': epoch+1,\n",
    "        # 'model_state_dict': compiled_vae.state_dict(),\n",
    "        # #'optimizer_state_dict': optimizer.state_dict(),\n",
    "        # #'scheduler_state_dict': scheduler.state_dict(),\n",
    "        # 'train_loss': train_loss,\n",
    "        # 'val_loss':val_loss,\n",
    "        # 'num_samples': num_samples,\n",
    "        # #'avg_gradients':avg_gradients\n",
    "        # 'learning_rate':current_lr\n",
    "        # }, os.path.join('epochs/best_model/', 'vae_best_model.pth'))\n",
    "\n",
    "    # Log training and validation losses\n",
    "    writer.add_scalar('Loss/Train', train_loss, epoch)\n",
    "    writer.add_scalar('Loss/Validation', val_loss, epoch)\n",
    "\n",
    "    tqdm.write(f'Epoch {epoch + 1}, Training Loss: {train_loss:.4f}, Validation Loss: {val_loss:.4f}, Learning Rate: {current_lr}')\n",
    "\n",
    "\n",
    "# After training loop\n",
    "\n",
    "# Calculate test loss\n",
    "compiled_vae.eval()\n",
    "test_loss = 0\n",
    "num_samples = 0\n",
    "sampler = get_subset_sampler(test_dataset, percentage=1)\n",
    "test_loader = DataLoader(test_dataset, batch_size=batch_size, sampler=sampler)\n",
    "with tqdm(total=len(test_loader), desc=f'Validation', unit='batch') as pbar:\n",
    "    with torch.no_grad():\n",
    "        for batch in test_loader:\n",
    "            batch = batch.to(device)\n",
    "            recon_batch, mu, logvar = compiled_vae(batch)\n",
    "            loss = compiled_vae.vae_loss(recon_batch, batch, mu, logvar)\n",
    "            test_loss += loss.item()\n",
    "            num_samples += batch.size()[0]\n",
    "\n",
    "            # Update the progress bar\n",
    "            pbar.update(1)  # Increment the progress bar by 1\n",
    "            pbar.set_postfix({'val_loss': loss.item()})  # Display current loss\n",
    "test_loss /= num_samples\n",
    "\n",
    "# Log test losses\n",
    "writer.add_scalar('Loss/Test', test_loss, epoch)\n",
    "\n",
    "# Close the TensorBoard writer\n",
    "writer.close()\n",
    "\n",
    "# Print test loss\n",
    "tqdm.write(f'Test Loss: {test_loss:.4f}')\n",
    "\n",
    "# Plot training and validation losses\n",
    "plt.figure(figsize=(10, 5))\n",
    "plt.plot(range(1, num_epochs + 1), train_losses, label='Training Loss')\n",
    "plt.plot(range(1, num_epochs + 1), val_losses, label='Validation Loss')\n",
    "plt.title('Training and Validation Loss')\n",
    "plt.xlabel('Epoch')\n",
    "plt.ylabel('Loss')\n",
    "plt.legend()\n",
    "plt.grid()\n",
    "plt.savefig('loss_plot.png')  # Save the plot as an image file\n",
    "plt.show()  # Display the plot\n",
    "\n",
    "torch.cuda.empty_cache()\n",
    "gc.collect()"
   ]
  },
  {
   "cell_type": "code",
   "execution_count": null,
   "metadata": {},
   "outputs": [],
   "source": []
  }
 ],
 "metadata": {
  "kernelspec": {
   "display_name": "venv",
   "language": "python",
   "name": "python3"
  },
  "language_info": {
   "codemirror_mode": {
    "name": "ipython",
    "version": 3
   },
   "file_extension": ".py",
   "mimetype": "text/x-python",
   "name": "python",
   "nbconvert_exporter": "python",
   "pygments_lexer": "ipython3",
   "version": "3.8.10"
  }
 },
 "nbformat": 4,
 "nbformat_minor": 2
}
