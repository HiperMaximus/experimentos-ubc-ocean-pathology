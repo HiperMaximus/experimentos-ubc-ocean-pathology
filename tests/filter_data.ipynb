{
 "cells": [
  {
   "cell_type": "code",
   "execution_count": 20,
   "metadata": {},
   "outputs": [],
   "source": [
    "import pandas as  pd\n",
    "import os\n",
    "import shutil"
   ]
  },
  {
   "cell_type": "code",
   "execution_count": null,
   "metadata": {},
   "outputs": [],
   "source": [
    "segment=os.listdir('../UBC-Ocean-Data/Segmentation')\n",
    "segment=[s.split('.')[0] for s in segment]\n",
    "df=pd.read_csv('train.csv')\n",
    "tma=df.loc[df['is_tma'],'image_id'].astype(str).values\n",
    "for i in range(11):\n",
    "    folders=os.listdir(f'../UBC-Ocean-Data/{i}')\n",
    "    for f in folders:\n",
    "        if (f in segment) or (f in tma):\n",
    "            shutil.rmtree(f)"
   ]
  }
 ],
 "metadata": {
  "kernelspec": {
   "display_name": "venv",
   "language": "python",
   "name": "python3"
  },
  "language_info": {
   "codemirror_mode": {
    "name": "ipython",
    "version": 3
   },
   "file_extension": ".py",
   "mimetype": "text/x-python",
   "name": "python",
   "nbconvert_exporter": "python",
   "pygments_lexer": "ipython3",
   "version": "3.10.12"
  }
 },
 "nbformat": 4,
 "nbformat_minor": 2
}
