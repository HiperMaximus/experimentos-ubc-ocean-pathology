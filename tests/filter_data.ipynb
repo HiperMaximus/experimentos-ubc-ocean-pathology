{
 "cells": [
  {
   "cell_type": "code",
   "execution_count": 1,
   "metadata": {},
   "outputs": [],
   "source": [
    "import pandas as  pd\n",
    "import os\n",
    "import shutil\n",
    "import numpy as np"
   ]
  },
  {
   "cell_type": "code",
   "execution_count": null,
   "metadata": {},
   "outputs": [],
   "source": [
    "segment=os.listdir('../UBC-Ocean-Data/Segmentation')\n",
    "segment=[s.split('.')[0] for s in segment]\n",
    "df=pd.read_csv('train.csv')\n",
    "tma=df.loc[df['is_tma'],'image_id'].astype(str).values\n",
    "for i in range(11):\n",
    "    current_dir=f'../UBC-Ocean-Data/{i}/'\n",
    "    folders=os.listdir(current_dir)\n",
    "    for f in folders:\n",
    "        if (f in segment) or (f in tma):\n",
    "            shutil.rmtree(current_dir+f)\n"
   ]
  },
  {
   "cell_type": "code",
   "execution_count": 6,
   "metadata": {},
   "outputs": [],
   "source": [
    "dirs=[]\n",
    "for i in range(11):\n",
    "    dirs+=os.listdir(f'../UBC-Ocean-Data/{i}')\n",
    "rng = np.random.default_rng()\n",
    "dirs=rng.permutation(dirs)\n",
    "\n",
    "for dir in dirs[:len(dirs)//2]:\n",
    "    for i in range(11):\n",
    "        current_dir=f'../UBC-Ocean-Data/{i}/'\n",
    "        if dir in os.listdir(current_dir):\n",
    "            shutil.move(current_dir+dir,'../UBC-Ocean-Data/Classification')\n",
    "            break\n",
    "            "
   ]
  }
 ],
 "metadata": {
  "kernelspec": {
   "display_name": "venv",
   "language": "python",
   "name": "python3"
  },
  "language_info": {
   "codemirror_mode": {
    "name": "ipython",
    "version": 3
   },
   "file_extension": ".py",
   "mimetype": "text/x-python",
   "name": "python",
   "nbconvert_exporter": "python",
   "pygments_lexer": "ipython3",
   "version": "3.8.10"
  }
 },
 "nbformat": 4,
 "nbformat_minor": 2
}
